{
 "cells": [
  {
   "cell_type": "code",
   "execution_count": 1,
   "metadata": {},
   "outputs": [
    {
     "name": "stderr",
     "output_type": "stream",
     "text": [
      "c:\\Users\\oskar\\.virtualenvs\\vrdt-venv\\Lib\\site-packages\\IPython\\core\\interactiveshell.py:3460: RuntimeWarning: You are running on Windows and the USERNAME env var is set. Be sure this env var contains Your Netatmo username or clear it with <SET USERNAME=> before running your program\n",
      "\n",
      "  exec(code_obj, self.user_global_ns, self.user_ns)\n"
     ]
    }
   ],
   "source": [
    "import lnetatmo as nt\n",
    "from configparser import ConfigParser\n",
    "\n",
    "parser = ConfigParser()\n",
    "parser.read('.env')\n",
    "config = parser['NETATMO']\n",
    "\n",
    "client_id     = config['client_id']\n",
    "client_secret = config['client_secret']\n",
    "username      = config['username']\n",
    "password      = config['password']\n",
    "\n",
    "authorization = nt.ClientAuth(client_id, client_secret, username, password)\n",
    "weatherData   = nt.WeatherStationData(authorization)\n",
    " \n",
    "def getNetatmoData():\n",
    "    return weatherData.lastData()"
   ]
  },
  {
   "cell_type": "code",
   "execution_count": 2,
   "metadata": {},
   "outputs": [
    {
     "data": {
      "text/plain": [
       "{'G3 Indoor': {'Temperature': 23.6,\n",
       "  'CO2': 801,\n",
       "  'Humidity': 33,\n",
       "  'Noise': 57,\n",
       "  'Pressure': 1017.1,\n",
       "  'AbsolutePressure': 992,\n",
       "  'min_temp': 21.9,\n",
       "  'max_temp': 23.6,\n",
       "  'date_max_temp': 1683042775,\n",
       "  'date_min_temp': 1682982563,\n",
       "  'temp_trend': 'stable',\n",
       "  'pressure_trend': 'up',\n",
       "  'When': 1683046710,\n",
       "  'wifi_status': 78},\n",
       " 'G3 Outdoor': {'Temperature': 10,\n",
       "  'Humidity': 58,\n",
       "  'min_temp': 1.8,\n",
       "  'max_temp': 10.7,\n",
       "  'date_max_temp': 1683040338,\n",
       "  'date_min_temp': 1682987069,\n",
       "  'temp_trend': 'up',\n",
       "  'When': 1683046695,\n",
       "  'battery_vp': 4772,\n",
       "  'battery_percent': 32,\n",
       "  'rf_status': 76}}"
      ]
     },
     "execution_count": 2,
     "metadata": {},
     "output_type": "execute_result"
    }
   ],
   "source": [
    "theData = weatherData.lastData()\n",
    "theData"
   ]
  },
  {
   "cell_type": "code",
   "execution_count": 3,
   "metadata": {},
   "outputs": [
    {
     "name": "stdout",
     "output_type": "stream",
     "text": [
      "Available modules :  dict_keys(['G3 Indoor', 'G3 Outdoor'])\n"
     ]
    }
   ],
   "source": [
    "print('Available modules : ', theData.keys() )"
   ]
  },
  {
   "cell_type": "code",
   "execution_count": 4,
   "metadata": {},
   "outputs": [
    {
     "name": "stdout",
     "output_type": "stream",
     "text": [
      "In-house CO2 level :  {'Temperature': 23.6, 'CO2': 801, 'Humidity': 33, 'Noise': 57, 'Pressure': 1017.1, 'AbsolutePressure': 992, 'min_temp': 21.9, 'max_temp': 23.6, 'date_max_temp': 1683042775, 'date_min_temp': 1682982563, 'temp_trend': 'stable', 'pressure_trend': 'up', 'When': 1683046710, 'wifi_status': 78}\n"
     ]
    }
   ],
   "source": [
    "print('In-house CO2 level : ', theData['G3 Indoor'])"
   ]
  },
  {
   "cell_type": "code",
   "execution_count": 5,
   "metadata": {},
   "outputs": [
    {
     "data": {
      "text/plain": [
       "{'_id': '70:ee:50:65:36:ae',\n",
       " 'date_setup': 1605480541,\n",
       " 'last_setup': 1605480541,\n",
       " 'type': 'NAMain',\n",
       " 'last_status_store': 1683046711,\n",
       " 'module_name': 'G3 Indoor',\n",
       " 'firmware': 201,\n",
       " 'wifi_status': 78,\n",
       " 'reachable': True,\n",
       " 'co2_calibrating': False,\n",
       " 'data_type': ['Temperature', 'CO2', 'Humidity', 'Noise', 'Pressure'],\n",
       " 'place': {'altitude': 211,\n",
       "  'city': 'Trondheim',\n",
       "  'country': 'NO',\n",
       "  'timezone': 'Europe/Oslo',\n",
       "  'location': [10.503161, 63.402379]},\n",
       " 'station_name': 'Sæterbakken (G3 Indoor)',\n",
       " 'home_id': '5fb1b05dd8c2486836481168',\n",
       " 'home_name': 'Sæterbakken',\n",
       " 'read_only': True,\n",
       " 'dashboard_data': {'time_utc': 1683046710,\n",
       "  'Temperature': 23.6,\n",
       "  'CO2': 801,\n",
       "  'Humidity': 33,\n",
       "  'Noise': 57,\n",
       "  'Pressure': 1017.1,\n",
       "  'AbsolutePressure': 992,\n",
       "  'min_temp': 21.9,\n",
       "  'max_temp': 23.6,\n",
       "  'date_max_temp': 1683042775,\n",
       "  'date_min_temp': 1682982563,\n",
       "  'temp_trend': 'stable',\n",
       "  'pressure_trend': 'up'},\n",
       " 'modules': [{'_id': '02:00:00:64:49:f6',\n",
       "   'type': 'NAModule1',\n",
       "   'module_name': 'G3 Outdoor',\n",
       "   'last_setup': 1605480704,\n",
       "   'data_type': ['Temperature', 'Humidity'],\n",
       "   'battery_percent': 32,\n",
       "   'reachable': True,\n",
       "   'firmware': 50,\n",
       "   'last_message': 1683046708,\n",
       "   'last_seen': 1683046695,\n",
       "   'rf_status': 76,\n",
       "   'battery_vp': 4772,\n",
       "   'dashboard_data': {'time_utc': 1683046695,\n",
       "    'Temperature': 10,\n",
       "    'Humidity': 58,\n",
       "    'min_temp': 1.8,\n",
       "    'max_temp': 10.7,\n",
       "    'date_max_temp': 1683040338,\n",
       "    'date_min_temp': 1682987069,\n",
       "    'temp_trend': 'up'}},\n",
       "  {'_id': '06:00:00:04:11:da',\n",
       "   'type': 'NAModule2',\n",
       "   'module_name': 'Smart Anemometer',\n",
       "   'last_setup': 1606512917,\n",
       "   'data_type': ['Wind'],\n",
       "   'battery_percent': 100,\n",
       "   'reachable': False,\n",
       "   'firmware': 25,\n",
       "   'last_message': 1639413175,\n",
       "   'last_seen': 1639413175,\n",
       "   'rf_status': 66,\n",
       "   'battery_vp': 65535}]}"
      ]
     },
     "execution_count": 5,
     "metadata": {},
     "output_type": "execute_result"
    }
   ],
   "source": [
    "import lnetatmo\n",
    "devList = lnetatmo.WeatherStationData(authorization)\n",
    "devList.stationByName()"
   ]
  },
  {
   "cell_type": "code",
   "execution_count": 6,
   "metadata": {},
   "outputs": [
    {
     "name": "stdout",
     "output_type": "stream",
     "text": [
      "Current temperature (inside/outside): 23.6 / 10 °C\n"
     ]
    }
   ],
   "source": [
    "print (\"Current temperature (inside/outside): %s / %s °C\" %\n",
    "        ( devList.lastData()['G3 Indoor']['Temperature'],\n",
    "          devList.lastData()['G3 Outdoor']['Temperature'])\n",
    "      )"
   ]
  },
  {
   "cell_type": "code",
   "execution_count": 7,
   "metadata": {},
   "outputs": [
    {
     "name": "stdout",
     "output_type": "stream",
     "text": [
      "Station owner :  digitaltwinsmarthouse@gmail.com\n",
      "Data units    :  metric\n"
     ]
    }
   ],
   "source": [
    "import time\n",
    "import lnetatmo\n",
    "\n",
    "\n",
    "weather = nt.WeatherStationData(authorization)\n",
    "\n",
    "user = weather.user\n",
    "\n",
    "print(\"Station owner : \", user.mail)\n",
    "print(\"Data units    : \", user.unit)"
   ]
  },
  {
   "cell_type": "code",
   "execution_count": 8,
   "metadata": {},
   "outputs": [
    {
     "name": "stdout",
     "output_type": "stream",
     "text": [
      "\n",
      "STATION : Sæterbakken (G3 Indoor)\n",
      "\n",
      "G3 Indoor\n",
      "                   Temperature : 23.6\n",
      "                           CO2 : 801\n",
      "                      Humidity : 33\n",
      "                         Noise : 57\n",
      "                      Pressure : 1017.1\n",
      "              AbsolutePressure : 992\n",
      "                      min_temp : 21.9\n",
      "                      max_temp : 23.6\n",
      "                 date_max_temp : 1683042775\n",
      "                 date_min_temp : 1682982563\n",
      "                    temp_trend : stable\n",
      "                pressure_trend : up\n",
      "                          When : 18:58:30\n",
      "                   wifi_status : 78\n",
      "G3 Outdoor\n",
      "                   Temperature : 10\n",
      "                      Humidity : 58\n",
      "                      min_temp : 1.8\n",
      "                      max_temp : 10.7\n",
      "                 date_max_temp : 1683040338\n",
      "                 date_min_temp : 1682987069\n",
      "                    temp_trend : up\n",
      "                          When : 18:58:15\n",
      "                    battery_vp : 4772\n",
      "               battery_percent : 32\n",
      "                     rf_status : 76\n"
     ]
    }
   ],
   "source": [
    "# For each station in the account\n",
    "for station in weather.stations:\n",
    "    print(\"\\nSTATION : %s\\n\" % weather.stations[station][\"station_name\"])\n",
    "\n",
    "    # For each available module in the returned data of the specified station\n",
    "    # that should not be older than one hour (3600 s) from now\n",
    "    for module, moduleData in weather.lastData(exclude=3600).items() :\n",
    "\n",
    "        # Name of the module (or station embedded module)\n",
    "        # You setup this name in the web netatmo account station management\n",
    "        print(module)\n",
    "\n",
    "        # List key/values pair of sensor information (eg Humidity, Temperature, etc...)\n",
    "        for sensor, value in moduleData.items() :\n",
    "            # To ease reading, print measurement event in readable text (hh:mm:ss)\n",
    "            if sensor == \"When\" : value = time.strftime(\"%H:%M:%S\",time.localtime(value))\n",
    "            print(\"%30s : %s\" % (sensor, value))"
   ]
  },
  {
   "cell_type": "code",
   "execution_count": 9,
   "metadata": {},
   "outputs": [],
   "source": [
    "import datetime, time\n",
    "\n",
    "import lnetatmo\n",
    "\n",
    "from matplotlib import pyplot as plt\n",
    "from matplotlib import dates\n",
    "from matplotlib.ticker import FormatStrFormatter\n",
    "\n",
    "# Access to the sensors\n",
    "dev  = nt.DeviceList(authorization)\n",
    "\n",
    "# Time of information collection : 3*24hours windows to now\n",
    "now = time.time()\n",
    "start = now - 3 * 24 * 3600"
   ]
  },
  {
   "cell_type": "code",
   "execution_count": 10,
   "metadata": {},
   "outputs": [],
   "source": [
    "# Get Temperature and Humidity with GETMEASURE web service (1 sample every 30min)\n",
    "resp = dev.getMeasure( device_id='70:ee:50:65:36:ae',                             # Replace with your values\n",
    "                       module_id='70:ee:50:65:36:ae',                             #    \"      \"    \"    \"\n",
    "                       scale=\"30min\",\n",
    "                       mtype=\"Temperature,Humidity\",\n",
    "                       date_begin=start,\n",
    "                       date_end=now)"
   ]
  },
  {
   "cell_type": "code",
   "execution_count": 11,
   "metadata": {},
   "outputs": [],
   "source": [
    "# Extract the timestamp, temperature and humidity from the more complex response structure\n",
    "result = [(int(k),v[0],v[1]) for k,v in resp['body'].items()]\n",
    "# Sort samples by timestamps (Warning, they are NOT sorted by default)\n",
    "result.sort()\n",
    "# Split in 3 lists for use with Matplotlib (timestamp on x, temperature and humidity on two y axis)\n",
    "xval, ytemp, yhum = zip(*result)\n",
    "\n",
    "# Convert the x axis values from Netatmo timestamp to matplotlib timestamp...\n",
    "xval = [dates.date2num(datetime.datetime.fromtimestamp(x)) for x in xval]"
   ]
  },
  {
   "cell_type": "code",
   "execution_count": 12,
   "metadata": {},
   "outputs": [
    {
     "data": {
      "image/png": "[encoded data removed]",
      "text/plain": [
       "<Figure size 2000x500 with 3 Axes>"
      ]
     },
     "metadata": {},
     "output_type": "display_data"
    }
   ],
   "source": [
    "# Build the two curves graph (check Matplotlib documentation for details)\n",
    "fig = plt.figure(figsize=(20,5))\n",
    "plt.xticks(rotation='vertical')\n",
    "\n",
    "graph1 = fig.add_subplot(111)\n",
    "\n",
    "graph1.plot(xval, ytemp, color='r', linewidth=3)\n",
    "graph1.set_ylabel(u'Température', color='r')\n",
    "graph1.set_ylim(0, 25)\n",
    "graph1.yaxis.grid(color='gray', linestyle='dashed')\n",
    "for t in graph1.get_yticklabels() : t.set_color('r')\n",
    "graph1.yaxis.set_major_formatter(FormatStrFormatter(u'%2.0f °C'))\n",
    "\n",
    "graph2 = graph1.twinx()\n",
    "\n",
    "graph2.plot(xval, yhum, color='b', linewidth=3)\n",
    "graph2.set_ylabel(u'Humidité',color='b')\n",
    "graph2.set_ylim(50,100)\n",
    "for t in graph2.get_yticklabels(): t.set_color('b')\n",
    "graph2.yaxis.set_major_formatter(FormatStrFormatter(u'%2i %%'))\n",
    "\n",
    "graph1.xaxis.set_major_locator(dates.HourLocator(interval=6))\n",
    "graph1.xaxis.set_minor_locator(dates.HourLocator())\n",
    "graph1.xaxis.set_major_formatter(dates.DateFormatter(\"%d-%Hh\"))\n",
    "graph1.xaxis.grid(color='gray')\n",
    "graph1.set_xlabel(u'Jour et heure de la journée')\n",
    "\n",
    "# X display the resulting graph (you could generate a PDF/PNG/... in place of display).\n",
    "# The display provides a minimal interface that notably allows you to save your graph\n",
    "plt.show()"
   ]
  }
 ],
 "metadata": {
  "kernelspec": {
   "display_name": "vrdt-venv",
   "language": "python",
   "name": "python3"
  },
  "language_info": {
   "codemirror_mode": {
    "name": "ipython",
    "version": 3
   },
   "file_extension": ".py",
   "mimetype": "text/x-python",
   "name": "python",
   "nbconvert_exporter": "python",
   "pygments_lexer": "ipython3",
   "version": "3.11.3"
  },
  "orig_nbformat": 4,
  "vscode": {
   "interpreter": {
    "hash": "8bfe5747096d2bea10d00a16090071e55113c50b2d8b8481c4744e2223582653"
   }
  }
 },
 "nbformat": 4,
 "nbformat_minor": 2
}
