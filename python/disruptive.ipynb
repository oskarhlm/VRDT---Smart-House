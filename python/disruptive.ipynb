{
 "cells": [
  {
   "cell_type": "code",
   "execution_count": 2,
   "metadata": {},
   "outputs": [],
   "source": [
    "import disruptive as dt\n",
    "import matplotlib.pyplot as plt\n",
    "from datetime import datetime, timedelta\n",
    "from scipy.interpolate import griddata, Rbf\n",
    "import numpy as np\n",
    "import pandas as pd"
   ]
  },
  {
   "cell_type": "code",
   "execution_count": 3,
   "metadata": {},
   "outputs": [
    {
     "name": "stdout",
     "output_type": "stream",
     "text": [
      "['temperature', 'proximity', 'touch', 'humidity', 'proximityCounter', 'touchCounter', 'waterDetector', 'ccon', 'co2', 'deskOccupancy']\n",
      "['1OutdoorEntrance', '2OfficeDesk', '2Fireplace', '2BalconyEntrance', '2Cooking', '2LivingRoomCenter', '2LivingRoomHumidifier', '2LivingRoomCenterHumidity', '2LRWindow', '2Stair', '1Entrance1', '1Entrance2', '1GuestRoom', '0BRoom', '1MainRoom', '1MainBRHum', '1Stair bottom', '0BTFloor', '0BTCeiling', '0BathroomWater', 'KitchenSinkWater', '2FirePlaceDoor', '2OfficeDoor', '0BGuestDoor', '1MainDoor', '0BDoor', '1BathRoomWatet']\n"
     ]
    }
   ],
   "source": [
    "\n",
    "project_id='c1qprqlh2t8g02sfoq30'\n",
    "dt.default_auth = dt.Auth.service_account('C73lmqav1410008ofpvg', 'a97dd7320f7845b7b6c7e2499f9e03c9','c73llpqv1410008ofpug@c1qprqlh2t8g02sfoq30.serviceaccount.d21s.com')\n",
    "\n",
    "# #CloudConnector=blvjthsc0001nr3n4nt0\n",
    "\n",
    "\n",
    "sensor = dt.Device.get_device('bjmghou7kro000cp4gng')\n",
    "\n",
    "\n",
    "device_ids=['bjihp8m7kro000cp1tug','bu6oa4uptglg00ehc5b0','bjmd4i5p0jt000a5cldg','bu6onheptglg00ehcfag','bjihev8pismg008hrkig',\n",
    "'bv8t0aqvje9g00eg5ma0','bjqhdclntbig00f92te0','bjqheb5ntbig00f92tng', 'bu6oqm988ueg00albpbg','bu6o15p88ueg00alb6c0', 'bjihd467gpvg00cjpb1g',\n",
    "'btmsltc9kjug00dlsibg','bjiier0pismg008hru40', 'btmu2i5pna500081fju0','bjijkbe7kro000cp2feg','btou87tpna500081gi20',\n",
    "'bv8stgs2ven000ch8k2g','bjihanlntbig00e44lc0','bu6nh7h88ueg00alaq2g','bjej76u7gpvg00cjoe20', 'bjejt50pismg008hqtf0',\n",
    "'bjekggtp0jt000aqcsug','bjihmfe7kro000cp1t5g','bjii1qlntbig00e44s50','bjii8c7bluqg00dlv2gg','bjm1ft7bluqg00dlvrng',\n",
    "'bjm2u6opismg008ht2a0','bjmgat7bluqg00dm1dt0','bjmgdle7gpvg00cjrvqg','bjmghou7kro000cp4gng','bjqhan67kro000cp7ojg',\n",
    "'bjqhc85p0jt000a5gkg0','bt3nmnj853cg00fllacg']\n",
    "\n",
    "print(dt.Device.DEVICE_TYPES)\n",
    "sensorList=[]\n",
    "\n",
    "for devices in device_ids: \n",
    "    sensor = dt.Device.get_device(devices) \n",
    "    if sensor.display_name!=None:\n",
    "        sensorList.append(sensor.display_name)\n",
    "print(sensorList)"
   ]
  },
  {
   "cell_type": "code",
   "execution_count": 4,
   "metadata": {},
   "outputs": [],
   "source": [
    "temperature_data = {}\n",
    "for device in device_ids:\n",
    "    # Fetch temperature events for the last 5 days.\n",
    "    event_history = dt.EventHistory.list_events(\n",
    "        device_id=device,\n",
    "        project_id=project_id,\n",
    "        event_types=[dt.events.TEMPERATURE],\n",
    "        start_time=datetime.today() - timedelta(days=1),\n",
    "    )\n",
    "    # Isolate timeaxis and temperature data which can be plotted directly.\n",
    "    sensor_name = dt.Device.get_device(device).display_name\n",
    "    timestamps = [event.data.timestamp for event in event_history]\n",
    "    temperature = [event.data.celsius for event in event_history]\n",
    "    # Store the timestamps and temperature data in a dictionary.\n",
    "\n",
    "    temperature_data[sensor_name] = {'timestamps': timestamps, 'temperature': temperature}"
   ]
  },
  {
   "cell_type": "code",
   "execution_count": 5,
   "metadata": {},
   "outputs": [
    {
     "name": "stdout",
     "output_type": "stream",
     "text": [
      "Device 2Stair: Temperature: 24.25 °C\n"
     ]
    }
   ],
   "source": [
    "# # Initiate an event stream for all devices in the sensor's project.\n",
    "# for event in dt.Stream.event_stream(sensor.project_id):\n",
    "#     # Check if the event is a temperature event for the specified device.\n",
    "#     if event.event_type == dt.events.TEMPERATURE and event.device_id == 'bjmd4i5p0jt000a5cldg':\n",
    "#         # Extract the temperature data from the event.\n",
    "#         temperature = event.data.celsius\n",
    "\n",
    "#         # Print the temperature to the console.\n",
    "#         print(f'Temperature: {temperature} °C')\n",
    "\n",
    "# Define a dictionary to store temperature data for each sensor.\n",
    "temperature_data = {}\n",
    "water_data={}\n",
    "# Get a list of all devices in the project.\n",
    "devices = dt.Device.list_devices(project_id)\n",
    "\n",
    "# Initiate an event stream for all devices in the project.\n",
    "for event in dt.Stream.event_stream(project_id):\n",
    "    # Check if the event is a temperature event for a device in the project.\n",
    "    if event.event_type == dt.events.TEMPERATURE:\n",
    "        device_id = event.device_id\n",
    "        sensor_name = dt.Device.get_device(device_id).display_name\n",
    "\n",
    "        # Check if the device is in the list of devices.\n",
    "        #if device_id in devices:\n",
    "\n",
    "        # Extract the temperature data from the event.\n",
    "        temperature = event.data.celsius\n",
    "\n",
    "        # Store the temperature data in the dictionary.\n",
    "        if sensor_name not in temperature_data:\n",
    "            temperature_data[sensor_name] = []\n",
    "        temperature_data[sensor_name].append(temperature)\n",
    "\n",
    "        # yield temperature_response\n",
    "        \n",
    "        # Print the temperature to the console.\n",
    "        print(f'Device {sensor_name}: Temperature: {temperature} °C')\n",
    "    elif event.event_type==dt.events.WATER_PRESENT:\n",
    "        device_id = event.device_id\n",
    "        sensor_name = dt.Device.get_device(device_id).display_name\n",
    "\n",
    "        # Extract the temperature data from the event.\n",
    "        water_state= event.data.state\n",
    "\n",
    "        # Store the temperature data in the dictionary.\n",
    "        if sensor_name not in temperature_data:\n",
    "            water_data[sensor_name] = []\n",
    "        water_data[sensor_name].append(water_state)\n",
    "\n",
    "        # yield temperature_response\n",
    "        \n",
    "        # Print the temperature to the console.\n",
    "        print(f'Device {sensor_name}: Water_state: {water_state}')\n",
    "\n",
    "    elif event.event_type==dt.events.WATER_PRESENT:\n",
    "        device_id = event.device_id\n",
    "        sensor_name = dt.Device.get_device(device_id).display_name\n",
    "\n",
    "        # Extract the temperature data from the event.\n",
    "        water_state= event.data.state\n",
    "\n",
    "        # Store the temperature data in the dictionary.\n",
    "        if sensor_name not in temperature_data:\n",
    "            water_data[sensor_name] = []\n",
    "        water_data[sensor_name].append(water_state)\n",
    "\n",
    "        # yield temperature_response\n",
    "        \n",
    "        # Print the temperature to the console.\n",
    "        print(f'Device {sensor_name}: Water_state: {water_state}')\n",
    "\n",
    "\n",
    "\n"
   ]
  },
  {
   "cell_type": "code",
   "execution_count": null,
   "metadata": {},
   "outputs": [
    {
     "ename": "",
     "evalue": "",
     "output_type": "error",
     "traceback": [
      "\u001b[1;31mRunning cells with 'vrdt-venv' requires the ipykernel package.\n",
      "\u001b[1;31mRun the following command to install 'ipykernel' into the Python environment. \n",
      "\u001b[1;31mCommand: 'c:/Users/oskar/.virtualenvs/vrdt-venv/Scripts/python.exe -m pip install ipykernel -U --force-reinstall'"
     ]
    }
   ],
   "source": [
    "\n",
    "#for device in device_ids:\n",
    "\n",
    "# GF\n",
    "temperature_data[\"0BRoom\"]['coords']=[1.58,3]\n",
    "temperature_data[\"0BTFloor\"]['coords']=[8.4,2.5]\n",
    "temperature_data[\"0BTCeiling\"]['coords']=[8.4,2.3]\n",
    "\n",
    "temperature_data[\"0BRoom\"]['room']=['Soverom']\n",
    "temperature_data[\"0BTFloor\"]['room']=['Ungdomsavdeling']\n",
    "temperature_data[\"0BTCeiling\"]['room']=['Ungdomsavdeling']\n",
    "\n",
    "#FF\n",
    "temperature_data[\"1Entrance1\"]['coords']=[3.6,8.1]\n",
    "temperature_data[\"1Stair bottom\"]['coords']=[3,5]\n",
    "temperature_data[\"1Entrance2\"]['coords']=[3,3]\n",
    "temperature_data[\"1GuestRoom\"]['coords']=[0,2]\n",
    "temperature_data[\"1MainRoom\"]['coords']=[8.4,2]\n",
    "\n",
    "temperature_data[\"1Entrance1\"]['room']=['Entre']\n",
    "temperature_data[\"1Stair bottom\"]['room']=['Entre']\n",
    "temperature_data[\"1Entrance2\"]['room']=['Entre']\n",
    "temperature_data[\"1GuestRoom\"]['room']=['Guestroom']\n",
    "temperature_data[\"1MainRoom\"]['room']=['MainRoom']\n",
    "\n",
    "#SF\n",
    "temperature_data[\"2OfficeDesk\"]['coords']=[1,7]\n",
    "temperature_data[\"2Stair\"]['coords']=[3,5.7]\n",
    "temperature_data[\"2LivingRoomCenter\"]['coords']=[8.4,4]\n",
    "temperature_data[\"2LRWindow\"]['coords']=[4.5,0]\n",
    "temperature_data[\"2Cooking\"]['coords']=[0,1.6]\n",
    "temperature_data[\"2Fireplace\"]['coords']=[4.5,3.5]\n",
    "temperature_data[\"2BalconyEntrance\"]['coords']=[4.5,8.1]\n",
    "\n",
    "temperature_data[\"2OfficeDesk\"]['room']=['kontor']\n",
    "temperature_data[\"2Stair\"]['room']=['stue']\n",
    "temperature_data[\"2LivingRoomCenter\"]['room']=['stue']\n",
    "temperature_data[\"2LRWindow\"]['room']=['stue']\n",
    "temperature_data[\"2Cooking\"]['room']=['stue']\n",
    "temperature_data[\"2Fireplace\"]['room']=['stue']\n",
    "temperature_data[\"2BalconyEntrance\"]['room']=['stue']\n"
   ]
  },
  {
   "cell_type": "code",
   "execution_count": null,
   "metadata": {},
   "outputs": [
    {
     "ename": "",
     "evalue": "",
     "output_type": "error",
     "traceback": [
      "\u001b[1;31mRunning cells with 'vrdt-venv' requires the ipykernel package.\n",
      "\u001b[1;31mRun the following command to install 'ipykernel' into the Python environment. \n",
      "\u001b[1;31mCommand: 'c:/Users/oskar/.virtualenvs/vrdt-venv/Scripts/python.exe -m pip install ipykernel -U --force-reinstall'"
     ]
    }
   ],
   "source": [
    "sensor_room=[]\n",
    "for i in range(len(sensorList)):\n",
    "    sensor_room.append(temperature_data[sensorList[i]]['room'])\n",
    "\n",
    "\n",
    "print(sensor_room)"
   ]
  },
  {
   "cell_type": "code",
   "execution_count": null,
   "metadata": {},
   "outputs": [
    {
     "ename": "",
     "evalue": "",
     "output_type": "error",
     "traceback": [
      "\u001b[1;31mRunning cells with 'vrdt-venv' requires the ipykernel package.\n",
      "\u001b[1;31mRun the following command to install 'ipykernel' into the Python environment. \n",
      "\u001b[1;31mCommand: 'c:/Users/oskar/.virtualenvs/vrdt-venv/Scripts/python.exe -m pip install ipykernel -U --force-reinstall'"
     ]
    }
   ],
   "source": [
    "sensor_temps_GF = np.array([temperature_data[\"0BRoom\"]['temperature'][-1:],\n",
    "temperature_data[\"0BTCeiling\"]['temperature'][-1:],\n",
    "temperature_data[\"0BTFloor\"]['temperature'][-1:]])\n",
    "\n",
    "sensor_temps_FF = np.array([temperature_data[\"1Entrance1\"]['temperature'][-1:],\n",
    "temperature_data[\"1Stair bottom\"]['temperature'][-1:],\n",
    "temperature_data[\"1GuestRoom\"]['temperature'][-1:],\n",
    "temperature_data[\"1MainRoom\"]['temperature'][-1:]])\n",
    "\n",
    "\n",
    "sensor_temps_SF=np.array([temperature_data[\"2OfficeDesk\"]['temperature'][-1:],\n",
    "temperature_data[\"2Stair\"]['temperature'][-1:],\n",
    "temperature_data[\"2LivingRoomCenter\"]['temperature'][-1:],\n",
    "temperature_data[\"2LRWindow\"]['temperature'][-1:],\n",
    "temperature_data[\"2Cooking\"]['temperature'][-1:],\n",
    "temperature_data[\"2Fireplace\"]['temperature'][-1:]])\n",
    "# Define known points and temperatures\n",
    "\n",
    "\n",
    "coords_GF=np.array([temperature_data[\"0BRoom\"]['coords'],\n",
    "temperature_data[\"0BTFloor\"]['coords'],\n",
    "temperature_data[\"0BTCeiling\"]['coords']])\n",
    "points=coords_GF\n",
    "\n",
    "coords_FF=np.array([temperature_data[\"1Entrance1\"]['coords'],\n",
    "temperature_data[\"1Stair bottom\"]['coords'],\n",
    "temperature_data[\"1GuestRoom\"]['coords'],\n",
    "temperature_data[\"1MainRoom\"]['coords']])\n",
    "\n",
    "sensor_temps_SF=np.array([temperature_data[\"2OfficeDesk\"]['coords'],\n",
    "temperature_data[\"2Stair\"]['coords'],\n",
    "temperature_data[\"2LivingRoomCenter\"]['coords'],\n",
    "temperature_data[\"2LRWindow\"]['coords'],\n",
    "temperature_data[\"2Cooking\"]['coords'],\n",
    "temperature_data[\"2Fireplace\"]['coords']])\n"
   ]
  },
  {
   "cell_type": "code",
   "execution_count": null,
   "metadata": {},
   "outputs": [
    {
     "ename": "",
     "evalue": "",
     "output_type": "error",
     "traceback": [
      "\u001b[1;31mRunning cells with 'vrdt-venv' requires the ipykernel package.\n",
      "\u001b[1;31mRun the following command to install 'ipykernel' into the Python environment. \n",
      "\u001b[1;31mCommand: 'c:/Users/oskar/.virtualenvs/vrdt-venv/Scripts/python.exe -m pip install ipykernel -U --force-reinstall'"
     ]
    }
   ],
   "source": [
    "#GF\n",
    "SoveromGF=(0,0),(3.15,0),(3.15,3),(0,3)\n",
    "BodGF=(0,5.48),(4.29,5.48),(4.29,8.1),(0,8.1)\n",
    "Bad=(4.29,5.48),(8.4,5.48),(8.4,8.1),(4.29,8.1)\n",
    "Ungdomsavdeling=(3.15,0),(8.4,0),(8.4,5.48),(3.15,5.48)\n",
    "TrapGF=(0,3),(3.15,3),(3,15,5.48),(0,5.48)\n",
    "\n",
    "\n",
    "\n",
    "#FF\n",
    "GuestRoom=(0,0),(3.6,0),(3.6,3),(0,3)\n",
    "MainRoom=(3.6,0),(8.4,0),(8.4,3),(3.6,3)\n",
    "SoveromFF=(6,3),(8.4,3),(8.4,8.1),(6,8.1)\n",
    "BadFF=(0,5.8),(3.15,5.8),(3.15,8.1),(0,8.1)\n",
    "Trap_Entre_Entrance=(0,3),(6.3,3),(6.3,5.48),(0,5.48),(3.15,8.1),(6,8.1)\n",
    "\n",
    "#FF=GuestRoom,MainRoom,SoveromFF,BodFF,Trap_Entre_Entrance\n"
   ]
  },
  {
   "cell_type": "code",
   "execution_count": null,
   "metadata": {},
   "outputs": [
    {
     "ename": "",
     "evalue": "",
     "output_type": "error",
     "traceback": [
      "\u001b[1;31mRunning cells with 'vrdt-venv' requires the ipykernel package.\n",
      "\u001b[1;31mRun the following command to install 'ipykernel' into the Python environment. \n",
      "\u001b[1;31mCommand: 'c:/Users/oskar/.virtualenvs/vrdt-venv/Scripts/python.exe -m pip install ipykernel -U --force-reinstall'"
     ]
    }
   ],
   "source": [
    "# Define the room coordinates\n",
    "room_coords = {'SoveromGF': SoveromGF,\n",
    "               'Bod': BodGF,\n",
    "               'Bad': Bad,\n",
    "               'Ungdomsavdeling':Ungdomsavdeling,\n",
    "               'TrapGF':TrapGF,\n",
    "               'GuestRoom':GuestRoom,\n",
    "               'MainRoom':MainRoom,\n",
    "               'SoveromFF':SoveromFF,\n",
    "               'BadFF':BadFF,\n",
    "               'Trap_Entre_Entrance':Trap_Entre_Entrance\n",
    "}"
   ]
  },
  {
   "cell_type": "code",
   "execution_count": null,
   "metadata": {},
   "outputs": [
    {
     "ename": "",
     "evalue": "",
     "output_type": "error",
     "traceback": [
      "\u001b[1;31mRunning cells with 'vrdt-venv' requires the ipykernel package.\n",
      "\u001b[1;31mRun the following command to install 'ipykernel' into the Python environment. \n",
      "\u001b[1;31mCommand: 'c:/Users/oskar/.virtualenvs/vrdt-venv/Scripts/python.exe -m pip install ipykernel -U --force-reinstall'"
     ]
    }
   ],
   "source": [
    "\n",
    "# Define grid points for interpolation\n",
    "xgrid_tot, ygrid_tot = np.meshgrid(np.linspace(0, 8.42, 10), np.linspace(0, 8.12, 10))\n",
    "grid_tot = np.column_stack((xgrid_tot.ravel(), ygrid_tot.ravel()))\n",
    "\n",
    "# Define temperature data for four rooms and two hallways\n",
    "#coord=coord_sensors\n",
    "\n",
    "\n",
    "df_temp = {\n",
    "    'x': [coords_GF[:,:1],coords_FF[:,:1]],\n",
    "    'y': [coords_GF[:,1:]],\n",
    "    'temperature': [sensor_temps_GF,sensor_temps_FF],\n",
    "    'sensor':[sensor_name],\n",
    "    'room': ['room1', 'room1', 'room1', 'room2', 'room2', 'room3'],\n",
    "}\n",
    "\n",
    "# Define door sensor data for three doors\n",
    "df_doors = {\n",
    "    'x':[3, 3],\n",
    "    'y':[10, 20],\n",
    "    'door1': ['room1', 'room2'],\n",
    "    'door2': ['room2', 'room3'],\n",
    "    'is_open': [False, True]\n",
    "}\n",
    "\n"
   ]
  },
  {
   "cell_type": "code",
   "execution_count": null,
   "metadata": {},
   "outputs": [
    {
     "ename": "",
     "evalue": "",
     "output_type": "error",
     "traceback": [
      "\u001b[1;31mRunning cells with 'vrdt-venv' requires the ipykernel package.\n",
      "\u001b[1;31mRun the following command to install 'ipykernel' into the Python environment. \n",
      "\u001b[1;31mCommand: 'c:/Users/oskar/.virtualenvs/vrdt-venv/Scripts/python.exe -m pip install ipykernel -U --force-reinstall'"
     ]
    }
   ],
   "source": [
    "v=0\n",
    "w=0\n",
    "for room in df_temp['room']:\n",
    "    if room=='room1':\n",
    "        w+=1 \n",
    "        sensor_room1=v,w\n",
    "    elif room=='room2':\n",
    "        v=sensor_room1[1]\n",
    "        w+=1\n",
    "        sensor_room2=v,w\n",
    "    elif room=='room3':\n",
    "        v=sensor_room2[1]\n",
    "        w+=1\n",
    "        sensor_room3=v,w\n",
    "sensor_room1_open2=sensor_room1[0],sensor_room2[1]\n",
    "sensor_room2_open3=sensor_room2[0],sensor_room3[1]"
   ]
  },
  {
   "cell_type": "code",
   "execution_count": null,
   "metadata": {},
   "outputs": [
    {
     "ename": "",
     "evalue": "",
     "output_type": "error",
     "traceback": [
      "\u001b[1;31mRunning cells with 'vrdt-venv' requires the ipykernel package.\n",
      "\u001b[1;31mRun the following command to install 'ipykernel' into the Python environment. \n",
      "\u001b[1;31mCommand: 'c:/Users/oskar/.virtualenvs/vrdt-venv/Scripts/python.exe -m pip install ipykernel -U --force-reinstall'"
     ]
    }
   ],
   "source": [
    "from scipy.interpolate import griddata\n",
    "\n",
    "def interpolate_temp(xi,yi,room):\n",
    "    "
   ]
  },
  {
   "cell_type": "code",
   "execution_count": null,
   "metadata": {},
   "outputs": [
    {
     "ename": "",
     "evalue": "",
     "output_type": "error",
     "traceback": [
      "\u001b[1;31mRunning cells with 'vrdt-venv' requires the ipykernel package.\n",
      "\u001b[1;31mRun the following command to install 'ipykernel' into the Python environment. \n",
      "\u001b[1;31mCommand: 'c:/Users/oskar/.virtualenvs/vrdt-venv/Scripts/python.exe -m pip install ipykernel -U --force-reinstall'"
     ]
    }
   ],
   "source": [
    "room_grid={}\n",
    "for room in room_coords:\n",
    "    i=0\n",
    "    i+=1\n",
    "    temp=[]\n",
    "    if len(room_coords[room])<5:\n",
    "        a=min(room_coords[room])\n",
    "        b=max(room_coords[room])\n",
    "\n",
    "        xgrid,ygrid=np.meshgrid(np.linspace(a[0],b[0],2),np.linspace(a[1],b[1],2))\n",
    "        grid=np.column_stack((xgrid.ravel(),ygrid.ravel()))\n",
    "        room_grid[room]=grid\n",
    "        "
   ]
  },
  {
   "cell_type": "code",
   "execution_count": null,
   "metadata": {},
   "outputs": [
    {
     "ename": "",
     "evalue": "",
     "output_type": "error",
     "traceback": [
      "\u001b[1;31mRunning cells with 'vrdt-venv' requires the ipykernel package.\n",
      "\u001b[1;31mRun the following command to install 'ipykernel' into the Python environment. \n",
      "\u001b[1;31mCommand: 'c:/Users/oskar/.virtualenvs/vrdt-venv/Scripts/python.exe -m pip install ipykernel -U --force-reinstall'"
     ]
    }
   ],
   "source": []
  },
  {
   "cell_type": "code",
   "execution_count": null,
   "metadata": {},
   "outputs": [
    {
     "ename": "",
     "evalue": "",
     "output_type": "error",
     "traceback": [
      "\u001b[1;31mRunning cells with 'vrdt-venv' requires the ipykernel package.\n",
      "\u001b[1;31mRun the following command to install 'ipykernel' into the Python environment. \n",
      "\u001b[1;31mCommand: 'c:/Users/oskar/.virtualenvs/vrdt-venv/Scripts/python.exe -m pip install ipykernel -U --force-reinstall'"
     ]
    }
   ],
   "source": [
    "from scipy.interpolate import griddata\n",
    "\n",
    "sensor_temps = np.array([temperature_data[\"0BRoom\"]['temperature'][-1:],\n",
    "temperature_data[\"0BTCeiling\"]['temperature'][-1:],\n",
    "temperature_data[\"0BTFloor\"]['temperature'][-1:]])\n",
    "\n",
    "print(sensor_temps)\n",
    "# Define known points and temperatures\n",
    "\n",
    "\n",
    "coords=np.array([temperature_data[\"0BRoom\"]['coords'],\n",
    "temperature_data[\"0BTFloor\"]['coords'],\n",
    "temperature_data[\"0BTCeiling\"]['coords']])\n",
    "points=coords\n",
    "\n",
    "# Define grid points for interpolation\n",
    "xgrid, ygrid = np.meshgrid(np.linspace(0, 8.42, 50), np.linspace(0, 8.12, 50))\n",
    "grid_points = np.column_stack((xgrid.ravel(), ygrid.ravel()))\n",
    "\n",
    "# Interpolate temperatures at grid points using IDW\n",
    "interp_temperatures = griddata(points, sensor_temps, grid_points, method='nearest')\n",
    "\n",
    "# Reshape interpolated temperatures into a grid\n",
    "interp_temperatures_grid = interp_temperatures.reshape(xgrid.shape)\n",
    "\n",
    "# Plot the heat map with known points and interpolated temperatures\n",
    "plt.figure(1)\n",
    "plt.scatter(points[:, 0], points[:, 1], c=sensor_temps, cmap='coolwarm', s=100, edgecolor='black')\n",
    "plt.imshow(interp_temperatures_grid, cmap='coolwarm', origin='lower', extent=(0, 8.42, 0, 8.2), alpha=0.5)\n",
    "plt.colorbar()\n",
    "plt.show()\n",
    "plt.savefig(\"./img/\"+\"heatmap\")"
   ]
  },
  {
   "cell_type": "code",
   "execution_count": null,
   "metadata": {},
   "outputs": [
    {
     "ename": "",
     "evalue": "",
     "output_type": "error",
     "traceback": [
      "\u001b[1;31mRunning cells with 'vrdt-venv' requires the ipykernel package.\n",
      "\u001b[1;31mRun the following command to install 'ipykernel' into the Python environment. \n",
      "\u001b[1;31mCommand: 'c:/Users/oskar/.virtualenvs/vrdt-venv/Scripts/python.exe -m pip install ipykernel -U --force-reinstall'"
     ]
    }
   ],
   "source": [
    "\n",
    "plt.figure(1)\n",
    "for devices in device_ids: \n",
    "    # Generate a plot using the fetched timeaxis and temperature values.    \n",
    "    sensor_name = dt.Device.get_device(devices).display_name \n",
    "    plt.plot(temperature_data[sensor_name]['timestamps'], temperature_data[sensor_name]['temperature'], '.',label=sensor_name) \n",
    "    plt.legend()\n",
    "plt.grid()\n",
    "plt.xlabel('Timestamp')\n",
    "plt.ylabel('Temperature [C]')\n",
    "plt.show()\n",
    "\n"
   ]
  },
  {
   "cell_type": "code",
   "execution_count": null,
   "metadata": {},
   "outputs": [
    {
     "ename": "",
     "evalue": "",
     "output_type": "error",
     "traceback": [
      "\u001b[1;31mRunning cells with 'vrdt-venv' requires the ipykernel package.\n",
      "\u001b[1;31mRun the following command to install 'ipykernel' into the Python environment. \n",
      "\u001b[1;31mCommand: 'c:/Users/oskar/.virtualenvs/vrdt-venv/Scripts/python.exe -m pip install ipykernel -U --force-reinstall'"
     ]
    }
   ],
   "source": [
    "\n",
    "plt.figure(1)\n",
    "for devices in device_ids: \n",
    "    # Fetch temperature events for the last 2 days.    \n",
    "    event_history = dt.EventHistory.list_events( \n",
    "    device_id=devices, project_id=project_id, \n",
    "    event_types=[dt.events.TEMPERATURE], \n",
    "    start_time=datetime.today()-timedelta(days=5),) \n",
    "    # Isolate timeaxis and temperature data which can be plotted directly.    \n",
    "    timestamps = [event.data.timestamp for event in event_history]\n",
    "    temperature = [event.data.celsius for event in event_history]\n",
    "    # Generate a plot using the fetched timeaxis and temperature values.    \n",
    "    sensor_name = dt.Device.get_device(devices).display_name \n",
    "    plt.plot(timestamps, temperature, '.',label=sensor_name) \n",
    "    plt.legend()\n",
    "plt.grid()\n",
    "plt.xlabel('Timestamp')\n",
    "plt.ylabel('Temperature [C]')\n",
    "plt.show()\n",
    "\n"
   ]
  }
 ],
 "metadata": {
  "kernelspec": {
   "display_name": "vrdt-venv",
   "language": "python",
   "name": "python3"
  },
  "language_info": {
   "codemirror_mode": {
    "name": "ipython",
    "version": 3
   },
   "file_extension": ".py",
   "mimetype": "text/x-python",
   "name": "python",
   "nbconvert_exporter": "python",
   "pygments_lexer": "ipython3",
   "version": "3.11.3"
  },
  "orig_nbformat": 4,
  "vscode": {
   "interpreter": {
    "hash": "8bfe5747096d2bea10d00a16090071e55113c50b2d8b8481c4744e2223582653"
   }
  }
 },
 "nbformat": 4,
 "nbformat_minor": 2
}
